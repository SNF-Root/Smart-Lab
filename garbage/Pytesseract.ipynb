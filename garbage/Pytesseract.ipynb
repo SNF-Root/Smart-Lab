{
 "cells": [
  {
   "cell_type": "code",
   "execution_count": 133,
   "metadata": {},
   "outputs": [
    {
     "name": "stdout",
     "output_type": "stream",
     "text": [
      "Requirement already satisfied: pytesseract in /Library/Frameworks/Python.framework/Versions/3.12/lib/python3.12/site-packages (0.3.10)\n",
      "Requirement already satisfied: packaging>=21.3 in /Users/andrew/Library/Python/3.12/lib/python/site-packages (from pytesseract) (23.2)\n",
      "Requirement already satisfied: Pillow>=8.0.0 in /Library/Frameworks/Python.framework/Versions/3.12/lib/python3.12/site-packages (from pytesseract) (10.2.0)\n",
      "Note: you may need to restart the kernel to use updated packages.\n"
     ]
    }
   ],
   "source": [
    "pip install pytesseract"
   ]
  },
  {
   "cell_type": "code",
   "execution_count": 134,
   "metadata": {},
   "outputs": [],
   "source": [
    "from PIL import Image\n",
    "import pytesseract\n",
    "import cv2\n",
    "import numpy as np"
   ]
  },
  {
   "cell_type": "code",
   "execution_count": 135,
   "metadata": {},
   "outputs": [],
   "source": [
    "# Im pretty much trying to get the numbers from the image\n",
    "# I can crop the image to get the numbers only\n",
    "# Then I can convert the image with a color mask\n",
    "# Having trouble with the number detection (Pytesseract)\n",
    "\n",
    "\n",
    "\n",
    "# img = Image.open(\"Report-Data/2024_06_14-09-26_TiO2 - STANDARD.jpg\")\n",
    "img = cv2.imread(\"Report-Data/2024_06_14-09-26_TiO2 - STANDARD.jpg\")\n",
    "# width, height = img.size\n",
    "\n",
    "# print(\"width: \", width)\n",
    "# print(\"height: \", height)\n",
    "# # img.crop((left, top, right, bottom))\n",
    "# img = img.crop((width / 2 + 200, 500, width-230, height-100))\n",
    "\n",
    "# img.show()\n",
    "# wait = input(\"PRESS ENTER TO CONTINUE.\")\n",
    "# img.close()\n",
    "\n",
    "img = img[500:600, 800:1050]\n",
    "res = img.copy()\n",
    "hsv = cv2.cvtColor(img, cv2.COLOR_BGR2HSV)\n",
    "\n",
    "lower_white = np.array([225,225,225])\n",
    "upper_white = np.array([255,255,255])\n",
    "mask = cv2.inRange(res, lower_white, upper_white)\n",
    "\n",
    "\n",
    "# lower_red = np.array([0,50,50])\n",
    "# upper_red = np.array([10,255,255])\n",
    "# mask0 = cv2.inRange(hsv, lower_red, upper_red)\n",
    "\n",
    "# # upper mask (170-180)\n",
    "# lower_red = np.array([170,50,50])\n",
    "# upper_red = np.array([180,255,255])\n",
    "# mask1 = cv2.inRange(hsv, lower_red, upper_red)\n",
    "\n",
    "# join my masks\n",
    "# mask = mask0+mask1\n",
    "\n",
    "# mask = cv2.inRange(hsv, lower_red, upper_red)\n",
    "res = cv2.bitwise_and(res,res, mask= mask)\n",
    "\n",
    "cv2.imshow('frame',img)\n",
    "cv2.imshow('mask',mask)\n",
    "cv2.imshow('res',res)\n",
    "\n",
    "res = cv2.cvtColor(res, cv2.COLOR_BGR2GRAY)\n",
    "cv2.imwrite(\"res.png\", res)\n",
    "cv2.waitKey(0) # waits until a key is pressed\n",
    "cv2.destroyAllWindows()\n",
    "\n",
    "# print(pytesseract.image_to_string(img, config='--psm 6'))"
   ]
  },
  {
   "cell_type": "code",
   "execution_count": 136,
   "metadata": {},
   "outputs": [
    {
     "name": "stdout",
     "output_type": "stream",
     "text": [
      "bly\n",
      "\n",
      "at]\n",
      "an\n",
      "\n",
      "aud\n",
      "\n"
     ]
    }
   ],
   "source": [
    "img = Image.open(\"res.png\")\n",
    "print(pytesseract.image_to_string(img, config='--oem 3 --psm 6'))"
   ]
  }
 ],
 "metadata": {
  "kernelspec": {
   "display_name": "Python 3",
   "language": "python",
   "name": "python3"
  },
  "language_info": {
   "codemirror_mode": {
    "name": "ipython",
    "version": 3
   },
   "file_extension": ".py",
   "mimetype": "text/x-python",
   "name": "python",
   "nbconvert_exporter": "python",
   "pygments_lexer": "ipython3",
   "version": "3.12.1"
  }
 },
 "nbformat": 4,
 "nbformat_minor": 2
}
